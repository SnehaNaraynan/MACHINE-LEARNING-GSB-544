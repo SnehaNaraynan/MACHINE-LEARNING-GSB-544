{
 "cells": [
  {
   "cell_type": "markdown",
   "id": "addf40ac",
   "metadata": {},
   "source": [
    "---\n",
    "title: Lab 3 Singing a song\n",
    "author: Sneha Narayanan\n",
    "format:\n",
    "    html:\n",
    "        toc: true\n",
    "        code-fold: true\n",
    "embed-resources: true\n",
    "theme: \"Lumen\"\n",
    "\n",
    "---\n"
   ]
  },
  {
   "cell_type": "code",
   "execution_count": null,
   "id": "2f3f348d",
   "metadata": {},
   "outputs": [],
   "source": [
    "import numpy as np"
   ]
  },
  {
   "cell_type": "code",
   "execution_count": 151,
   "id": "42bd189c",
   "metadata": {},
   "outputs": [],
   "source": [
    "import pandas as pd\n",
    "xmas = pd.read_csv(\"https://www.dropbox.com/scl/fi/qxaslqqp5p08i1650rpc4/xmas.csv?rlkey=erdxi7jbh7pqf9fh4lv4cayp5&dl=1\")"
   ]
  },
  {
   "cell_type": "code",
   "execution_count": 152,
   "id": "86dc2dff",
   "metadata": {},
   "outputs": [
    {
     "data": {
      "text/html": [
       "<div>\n",
       "<style scoped>\n",
       "    .dataframe tbody tr th:only-of-type {\n",
       "        vertical-align: middle;\n",
       "    }\n",
       "\n",
       "    .dataframe tbody tr th {\n",
       "        vertical-align: top;\n",
       "    }\n",
       "\n",
       "    .dataframe thead th {\n",
       "        text-align: right;\n",
       "    }\n",
       "</style>\n",
       "<table border=\"1\" class=\"dataframe\">\n",
       "  <thead>\n",
       "    <tr style=\"text-align: right;\">\n",
       "      <th></th>\n",
       "      <th>Day</th>\n",
       "      <th>Day.in.Words</th>\n",
       "      <th>Gift.Item</th>\n",
       "      <th>Verb</th>\n",
       "      <th>Adjective</th>\n",
       "      <th>Location</th>\n",
       "    </tr>\n",
       "  </thead>\n",
       "  <tbody>\n",
       "    <tr>\n",
       "      <th>0</th>\n",
       "      <td>1</td>\n",
       "      <td>first</td>\n",
       "      <td>partridge</td>\n",
       "      <td>NaN</td>\n",
       "      <td>NaN</td>\n",
       "      <td>in a pear tree</td>\n",
       "    </tr>\n",
       "    <tr>\n",
       "      <th>1</th>\n",
       "      <td>2</td>\n",
       "      <td>second</td>\n",
       "      <td>dove</td>\n",
       "      <td>NaN</td>\n",
       "      <td>turtle</td>\n",
       "      <td>NaN</td>\n",
       "    </tr>\n",
       "    <tr>\n",
       "      <th>2</th>\n",
       "      <td>3</td>\n",
       "      <td>third</td>\n",
       "      <td>hen</td>\n",
       "      <td>NaN</td>\n",
       "      <td>french</td>\n",
       "      <td>NaN</td>\n",
       "    </tr>\n",
       "    <tr>\n",
       "      <th>3</th>\n",
       "      <td>4</td>\n",
       "      <td>fourth</td>\n",
       "      <td>bird</td>\n",
       "      <td>NaN</td>\n",
       "      <td>calling</td>\n",
       "      <td>NaN</td>\n",
       "    </tr>\n",
       "    <tr>\n",
       "      <th>4</th>\n",
       "      <td>5</td>\n",
       "      <td>fifth</td>\n",
       "      <td>ring</td>\n",
       "      <td>NaN</td>\n",
       "      <td>golden</td>\n",
       "      <td>NaN</td>\n",
       "    </tr>\n",
       "    <tr>\n",
       "      <th>5</th>\n",
       "      <td>6</td>\n",
       "      <td>sixth</td>\n",
       "      <td>goose</td>\n",
       "      <td>a-laying</td>\n",
       "      <td>NaN</td>\n",
       "      <td>NaN</td>\n",
       "    </tr>\n",
       "    <tr>\n",
       "      <th>6</th>\n",
       "      <td>7</td>\n",
       "      <td>seventh</td>\n",
       "      <td>swan</td>\n",
       "      <td>a-swimming</td>\n",
       "      <td>NaN</td>\n",
       "      <td>NaN</td>\n",
       "    </tr>\n",
       "    <tr>\n",
       "      <th>7</th>\n",
       "      <td>8</td>\n",
       "      <td>eighth</td>\n",
       "      <td>maid</td>\n",
       "      <td>a-milking</td>\n",
       "      <td>NaN</td>\n",
       "      <td>NaN</td>\n",
       "    </tr>\n",
       "    <tr>\n",
       "      <th>8</th>\n",
       "      <td>9</td>\n",
       "      <td>ninth</td>\n",
       "      <td>lady</td>\n",
       "      <td>dancing</td>\n",
       "      <td>NaN</td>\n",
       "      <td>NaN</td>\n",
       "    </tr>\n",
       "    <tr>\n",
       "      <th>9</th>\n",
       "      <td>10</td>\n",
       "      <td>tenth</td>\n",
       "      <td>lord</td>\n",
       "      <td>a-leaping</td>\n",
       "      <td>NaN</td>\n",
       "      <td>NaN</td>\n",
       "    </tr>\n",
       "    <tr>\n",
       "      <th>10</th>\n",
       "      <td>11</td>\n",
       "      <td>eleventh</td>\n",
       "      <td>piper</td>\n",
       "      <td>piping</td>\n",
       "      <td>NaN</td>\n",
       "      <td>NaN</td>\n",
       "    </tr>\n",
       "    <tr>\n",
       "      <th>11</th>\n",
       "      <td>12</td>\n",
       "      <td>twelfth</td>\n",
       "      <td>drummer</td>\n",
       "      <td>drumming</td>\n",
       "      <td>NaN</td>\n",
       "      <td>NaN</td>\n",
       "    </tr>\n",
       "  </tbody>\n",
       "</table>\n",
       "</div>"
      ],
      "text/plain": [
       "    Day Day.in.Words  Gift.Item        Verb Adjective        Location\n",
       "0     1        first  partridge         NaN       NaN  in a pear tree\n",
       "1     2       second       dove         NaN    turtle             NaN\n",
       "2     3        third        hen         NaN    french             NaN\n",
       "3     4       fourth       bird         NaN   calling             NaN\n",
       "4     5        fifth       ring         NaN    golden             NaN\n",
       "5     6        sixth      goose    a-laying       NaN             NaN\n",
       "6     7      seventh       swan  a-swimming       NaN             NaN\n",
       "7     8       eighth       maid   a-milking       NaN             NaN\n",
       "8     9        ninth       lady     dancing       NaN             NaN\n",
       "9    10        tenth       lord   a-leaping       NaN             NaN\n",
       "10   11     eleventh      piper      piping       NaN             NaN\n",
       "11   12      twelfth    drummer    drumming       NaN             NaN"
      ]
     },
     "execution_count": 152,
     "metadata": {},
     "output_type": "execute_result"
    }
   ],
   "source": [
    "xmas.head(12)"
   ]
  },
  {
   "cell_type": "code",
   "execution_count": 153,
   "id": "b28270a7",
   "metadata": {},
   "outputs": [
    {
     "name": "stdout",
     "output_type": "stream",
     "text": [
      "<class 'pandas.core.frame.DataFrame'>\n",
      "RangeIndex: 12 entries, 0 to 11\n",
      "Data columns (total 6 columns):\n",
      " #   Column        Non-Null Count  Dtype \n",
      "---  ------        --------------  ----- \n",
      " 0   Day           12 non-null     int64 \n",
      " 1   Day.in.Words  12 non-null     object\n",
      " 2   Gift.Item     12 non-null     object\n",
      " 3   Verb          7 non-null      object\n",
      " 4   Adjective     4 non-null      object\n",
      " 5   Location      1 non-null      object\n",
      "dtypes: int64(1), object(5)\n",
      "memory usage: 708.0+ bytes\n"
     ]
    }
   ],
   "source": [
    "xmas.info()"
   ]
  },
  {
   "cell_type": "code",
   "execution_count": 349,
   "id": "b88af58f",
   "metadata": {},
   "outputs": [],
   "source": [
    "xmas2 = xmas2.fillna('')"
   ]
  },
  {
   "cell_type": "markdown",
   "id": "2f618497",
   "metadata": {},
   "source": [
    "# Function 1: pluralize_gift()"
   ]
  },
  {
   "cell_type": "code",
   "execution_count": 155,
   "id": "695ba661",
   "metadata": {},
   "outputs": [
    {
     "data": {
      "text/plain": [
       "'trees'"
      ]
     },
     "execution_count": 155,
     "metadata": {},
     "output_type": "execute_result"
    }
   ],
   "source": [
    "obj_1 = \"foot\"\n",
    "obj_2 = \"baby\"\n",
    "obj_3 = \"tree\"\n",
    "\n",
    "obj_1.find(\"oo\")\n",
    "obj_2[-1]\n",
    "obj_3.find(\"oo\")\n",
    "\n",
    "obj_1.replace(\"oo\", \"ee\")\n",
    "obj_2.replace(\"y\", \"ies\")\n",
    "obj_3 + \"s\""
   ]
  },
  {
   "cell_type": "code",
   "execution_count": 156,
   "id": "546efdd9",
   "metadata": {},
   "outputs": [],
   "source": [
    "def pluralize_gift(gift):\n",
    "    if \"oo\" in gift:\n",
    "        gift = gift.replace(\"oo\", \"ee\")\n",
    "    elif gift[-1]=='y':\n",
    "        gift = gift.replace(\"y\", \"ies\")\n",
    "    else:\n",
    "        gift = gift + 's'  \n",
    "\n",
    "    return gift"
   ]
  },
  {
   "cell_type": "code",
   "execution_count": 157,
   "id": "db308aa9",
   "metadata": {},
   "outputs": [
    {
     "data": {
      "text/plain": [
       "'flies'"
      ]
     },
     "execution_count": 157,
     "metadata": {},
     "output_type": "execute_result"
    }
   ],
   "source": [
    "pluralize_gift(\"fly\")"
   ]
  },
  {
   "cell_type": "code",
   "execution_count": 158,
   "id": "35ca37e8",
   "metadata": {},
   "outputs": [
    {
     "data": {
      "text/plain": [
       "'geese'"
      ]
     },
     "execution_count": 158,
     "metadata": {},
     "output_type": "execute_result"
    }
   ],
   "source": [
    "pluralize_gift(\"goose\")"
   ]
  },
  {
   "cell_type": "code",
   "execution_count": 159,
   "id": "a2035406",
   "metadata": {},
   "outputs": [
    {
     "data": {
      "text/plain": [
       "'dogs'"
      ]
     },
     "execution_count": 159,
     "metadata": {},
     "output_type": "execute_result"
    }
   ],
   "source": [
    "pluralize_gift(\"dog\")"
   ]
  },
  {
   "cell_type": "code",
   "execution_count": 160,
   "id": "b37a9b53",
   "metadata": {},
   "outputs": [
    {
     "data": {
      "text/plain": [
       "<numpy.vectorize at 0x164843750>"
      ]
     },
     "execution_count": 160,
     "metadata": {},
     "output_type": "execute_result"
    }
   ],
   "source": [
    "np.vectorize(pluralize_gift)"
   ]
  },
  {
   "cell_type": "code",
   "execution_count": 277,
   "id": "42b6921e",
   "metadata": {},
   "outputs": [],
   "source": [
    "def pluralize_gift(gift):\n",
    "    if \"oo\" in gift:\n",
    "        gift = gift.replace(\"oo\", \"ee\")\n",
    "    elif gift[-1]=='y':\n",
    "        gift = gift[:-1] + \"ies\"\n",
    "    else:\n",
    "        gift = gift + 's'  \n",
    "\n",
    "    return gift"
   ]
  },
  {
   "cell_type": "code",
   "execution_count": 162,
   "id": "387ee713",
   "metadata": {},
   "outputs": [
    {
     "data": {
      "text/plain": [
       "0     partridges\n",
       "1          doves\n",
       "2           hens\n",
       "3          birds\n",
       "4          rings\n",
       "5          geese\n",
       "6          swans\n",
       "7          maids\n",
       "8         ladies\n",
       "9          lords\n",
       "10        pipers\n",
       "11      drummers\n",
       "Name: Gift.Item, dtype: object"
      ]
     },
     "execution_count": 162,
     "metadata": {},
     "output_type": "execute_result"
    }
   ],
   "source": [
    "xmas['Gift.Item'].apply(pluralize_gift)"
   ]
  },
  {
   "cell_type": "markdown",
   "id": "62d7ccd6",
   "metadata": {},
   "source": [
    "# Function 2: make_phrase()"
   ]
  },
  {
   "cell_type": "code",
   "execution_count": 163,
   "id": "a843e6b0",
   "metadata": {},
   "outputs": [],
   "source": [
    "def make_phrase(num, num_word, item, verb, adjective, location):\n",
    "    verb = verb if verb else \" \"\n",
    "    adjective = adjective if adjective else \" \"\n",
    "    location = location if location else \" \"\n",
    "    \n",
    "    if num >1:\n",
    "        item = pluralize_gift(item)\n",
    "    \n",
    "    if item[:1].lower() in ['a', 'e', 'i', 'o', 'u']:\n",
    "        vowel = True\n",
    "    else:\n",
    "        vowel = False\n",
    "    \n",
    "    if num == 1:\n",
    "        article = \"an\" if vowel else \"a\"\n",
    "        phrase = f\"{article} {adjective} {item} {location}\".strip()\n",
    "    else:\n",
    "        phrase = f\"{num_word} {adjective} {item} {verb} {location}\".strip()\n",
    "    \n",
    "\n",
    "    return phrase"
   ]
  },
  {
   "cell_type": "code",
   "execution_count": 164,
   "id": "52206a2f",
   "metadata": {},
   "outputs": [
    {
     "data": {
      "text/plain": [
       "'three french hens'"
      ]
     },
     "execution_count": 164,
     "metadata": {},
     "output_type": "execute_result"
    }
   ],
   "source": [
    "make_phrase(num=3, num_word='three', item='hen', verb='', adjective='french', location='')"
   ]
  },
  {
   "cell_type": "code",
   "execution_count": 165,
   "id": "5bb09cfe",
   "metadata": {},
   "outputs": [
    {
     "data": {
      "text/plain": [
       "'five golden rings'"
      ]
     },
     "execution_count": 165,
     "metadata": {},
     "output_type": "execute_result"
    }
   ],
   "source": [
    "make_phrase(num=5, num_word='five', item='ring', verb='', adjective='golden', location='')"
   ]
  },
  {
   "cell_type": "code",
   "execution_count": 166,
   "id": "1dccc5b7",
   "metadata": {},
   "outputs": [
    {
     "data": {
      "text/plain": [
       "'a   partridge in a pear tree'"
      ]
     },
     "execution_count": 166,
     "metadata": {},
     "output_type": "execute_result"
    }
   ],
   "source": [
    "make_phrase(num=1, num_word='one', item='partridge', verb='', adjective='', location='in a pear tree')"
   ]
  },
  {
   "cell_type": "code",
   "execution_count": 167,
   "id": "f23a7f5c",
   "metadata": {},
   "outputs": [],
   "source": [
    "xmas['Full.Phrase'] = xmas.apply(\n",
    "    lambda row: make_phrase(\n",
    "        num=row['Day'],\n",
    "        num_word=row['Day.in.Words'],\n",
    "        item=row['Gift.Item'],\n",
    "        verb=row['Verb'],\n",
    "        adjective=row['Adjective'],\n",
    "        location=row['Location']\n",
    "    ),\n",
    "    axis=1\n",
    ")"
   ]
  },
  {
   "cell_type": "code",
   "execution_count": 168,
   "id": "e2b14446",
   "metadata": {},
   "outputs": [
    {
     "data": {
      "text/html": [
       "<div>\n",
       "<style scoped>\n",
       "    .dataframe tbody tr th:only-of-type {\n",
       "        vertical-align: middle;\n",
       "    }\n",
       "\n",
       "    .dataframe tbody tr th {\n",
       "        vertical-align: top;\n",
       "    }\n",
       "\n",
       "    .dataframe thead th {\n",
       "        text-align: right;\n",
       "    }\n",
       "</style>\n",
       "<table border=\"1\" class=\"dataframe\">\n",
       "  <thead>\n",
       "    <tr style=\"text-align: right;\">\n",
       "      <th></th>\n",
       "      <th>Day</th>\n",
       "      <th>Day.in.Words</th>\n",
       "      <th>Gift.Item</th>\n",
       "      <th>Verb</th>\n",
       "      <th>Adjective</th>\n",
       "      <th>Location</th>\n",
       "      <th>Full.Phrase</th>\n",
       "    </tr>\n",
       "  </thead>\n",
       "  <tbody>\n",
       "    <tr>\n",
       "      <th>0</th>\n",
       "      <td>1</td>\n",
       "      <td>first</td>\n",
       "      <td>partridge</td>\n",
       "      <td></td>\n",
       "      <td></td>\n",
       "      <td>in a pear tree</td>\n",
       "      <td>a   partridge in a pear tree</td>\n",
       "    </tr>\n",
       "    <tr>\n",
       "      <th>1</th>\n",
       "      <td>2</td>\n",
       "      <td>second</td>\n",
       "      <td>dove</td>\n",
       "      <td></td>\n",
       "      <td>turtle</td>\n",
       "      <td></td>\n",
       "      <td>second turtle doves</td>\n",
       "    </tr>\n",
       "    <tr>\n",
       "      <th>2</th>\n",
       "      <td>3</td>\n",
       "      <td>third</td>\n",
       "      <td>hen</td>\n",
       "      <td></td>\n",
       "      <td>french</td>\n",
       "      <td></td>\n",
       "      <td>third french hens</td>\n",
       "    </tr>\n",
       "    <tr>\n",
       "      <th>3</th>\n",
       "      <td>4</td>\n",
       "      <td>fourth</td>\n",
       "      <td>bird</td>\n",
       "      <td></td>\n",
       "      <td>calling</td>\n",
       "      <td></td>\n",
       "      <td>fourth calling birds</td>\n",
       "    </tr>\n",
       "    <tr>\n",
       "      <th>4</th>\n",
       "      <td>5</td>\n",
       "      <td>fifth</td>\n",
       "      <td>ring</td>\n",
       "      <td></td>\n",
       "      <td>golden</td>\n",
       "      <td></td>\n",
       "      <td>fifth golden rings</td>\n",
       "    </tr>\n",
       "    <tr>\n",
       "      <th>5</th>\n",
       "      <td>6</td>\n",
       "      <td>sixth</td>\n",
       "      <td>goose</td>\n",
       "      <td>a-laying</td>\n",
       "      <td></td>\n",
       "      <td></td>\n",
       "      <td>sixth   geese a-laying</td>\n",
       "    </tr>\n",
       "    <tr>\n",
       "      <th>6</th>\n",
       "      <td>7</td>\n",
       "      <td>seventh</td>\n",
       "      <td>swan</td>\n",
       "      <td>a-swimming</td>\n",
       "      <td></td>\n",
       "      <td></td>\n",
       "      <td>seventh   swans a-swimming</td>\n",
       "    </tr>\n",
       "    <tr>\n",
       "      <th>7</th>\n",
       "      <td>8</td>\n",
       "      <td>eighth</td>\n",
       "      <td>maid</td>\n",
       "      <td>a-milking</td>\n",
       "      <td></td>\n",
       "      <td></td>\n",
       "      <td>eighth   maids a-milking</td>\n",
       "    </tr>\n",
       "    <tr>\n",
       "      <th>8</th>\n",
       "      <td>9</td>\n",
       "      <td>ninth</td>\n",
       "      <td>lady</td>\n",
       "      <td>dancing</td>\n",
       "      <td></td>\n",
       "      <td></td>\n",
       "      <td>ninth   ladies dancing</td>\n",
       "    </tr>\n",
       "    <tr>\n",
       "      <th>9</th>\n",
       "      <td>10</td>\n",
       "      <td>tenth</td>\n",
       "      <td>lord</td>\n",
       "      <td>a-leaping</td>\n",
       "      <td></td>\n",
       "      <td></td>\n",
       "      <td>tenth   lords a-leaping</td>\n",
       "    </tr>\n",
       "    <tr>\n",
       "      <th>10</th>\n",
       "      <td>11</td>\n",
       "      <td>eleventh</td>\n",
       "      <td>piper</td>\n",
       "      <td>piping</td>\n",
       "      <td></td>\n",
       "      <td></td>\n",
       "      <td>eleventh   pipers piping</td>\n",
       "    </tr>\n",
       "    <tr>\n",
       "      <th>11</th>\n",
       "      <td>12</td>\n",
       "      <td>twelfth</td>\n",
       "      <td>drummer</td>\n",
       "      <td>drumming</td>\n",
       "      <td></td>\n",
       "      <td></td>\n",
       "      <td>twelfth   drummers drumming</td>\n",
       "    </tr>\n",
       "  </tbody>\n",
       "</table>\n",
       "</div>"
      ],
      "text/plain": [
       "    Day Day.in.Words  Gift.Item        Verb Adjective        Location  \\\n",
       "0     1        first  partridge                        in a pear tree   \n",
       "1     2       second       dove                turtle                   \n",
       "2     3        third        hen                french                   \n",
       "3     4       fourth       bird               calling                   \n",
       "4     5        fifth       ring                golden                   \n",
       "5     6        sixth      goose    a-laying                             \n",
       "6     7      seventh       swan  a-swimming                             \n",
       "7     8       eighth       maid   a-milking                             \n",
       "8     9        ninth       lady     dancing                             \n",
       "9    10        tenth       lord   a-leaping                             \n",
       "10   11     eleventh      piper      piping                             \n",
       "11   12      twelfth    drummer    drumming                             \n",
       "\n",
       "                     Full.Phrase  \n",
       "0   a   partridge in a pear tree  \n",
       "1            second turtle doves  \n",
       "2              third french hens  \n",
       "3           fourth calling birds  \n",
       "4             fifth golden rings  \n",
       "5         sixth   geese a-laying  \n",
       "6     seventh   swans a-swimming  \n",
       "7       eighth   maids a-milking  \n",
       "8         ninth   ladies dancing  \n",
       "9        tenth   lords a-leaping  \n",
       "10      eleventh   pipers piping  \n",
       "11   twelfth   drummers drumming  "
      ]
     },
     "execution_count": 168,
     "metadata": {},
     "output_type": "execute_result"
    }
   ],
   "source": [
    "xmas"
   ]
  },
  {
   "cell_type": "markdown",
   "id": "5d8ae61c",
   "metadata": {},
   "source": [
    "# Function 3: sing_day()"
   ]
  },
  {
   "cell_type": "code",
   "execution_count": 341,
   "id": "7449ba5a",
   "metadata": {},
   "outputs": [],
   "source": [
    "def sing_day(dataset, num, phrase_col):\n",
    "    num_word = dataset.loc[num - 1, 'Day.in.Words']\n",
    "    intro = f\"On the {num_word} day of Christmas, my true love sent to me:\"\n",
    "  \n",
    "    gift_word = {\n",
    "        1: \"one\", 2: \"two\", 3: \"three\", 4: \"four\", 5: \"five\",\n",
    "        6: \"six\", 7: \"seven\", 8: \"eight\", 9: \"nine\", 10: \"ten\",\n",
    "        11: \"eleven\", 12: \"twelve\"\n",
    "    }\n",
    "    def format_gift(i):\n",
    "        phrase = dataset.loc[i - 1, phrase_col]\n",
    "        phrase = ' '.join(phrase.split()[1:])\n",
    "        if i == 1:\n",
    "            return phrase.replace(\"one\",\"a\").replace(\"one\",\"an\") + \".\"\n",
    "        else:\n",
    "            return f\"{gift_word[i]} {phrase},\"\n",
    "    gifts = list(map(format_gift, range(num, 0, -1)))\n",
    "    \n",
    "    return intro + \"\\n\" + \"\\n\".join(gifts).strip(\",\")"
   ]
  },
  {
   "cell_type": "code",
   "execution_count": 342,
   "id": "f3c5a081",
   "metadata": {},
   "outputs": [
    {
     "name": "stdout",
     "output_type": "stream",
     "text": [
      "On the third day of Christmas, my true love sent to me:\n",
      "three french hens,\n",
      "two turtle doves,\n",
      "partridge in a pear tree.\n"
     ]
    }
   ],
   "source": [
    "print(sing_day(xmas, 3, \"Full.Phrase\"))"
   ]
  },
  {
   "cell_type": "markdown",
   "id": "ecced54c",
   "metadata": {},
   "source": [
    "# XMAS 2"
   ]
  },
  {
   "cell_type": "code",
   "execution_count": 343,
   "id": "b55d5f64",
   "metadata": {},
   "outputs": [],
   "source": [
    "xmas2 = pd.read_csv(\"https://www.dropbox.com/scl/fi/p9x9k8xwuzs9rhp582vfy/xmas_2.csv?rlkey=kvc3j3lmyn4opcidsrhcmrof1&dl=1\")"
   ]
  },
  {
   "cell_type": "code",
   "execution_count": 344,
   "id": "9062d92f",
   "metadata": {},
   "outputs": [
    {
     "data": {
      "text/html": [
       "<div>\n",
       "<style scoped>\n",
       "    .dataframe tbody tr th:only-of-type {\n",
       "        vertical-align: middle;\n",
       "    }\n",
       "\n",
       "    .dataframe tbody tr th {\n",
       "        vertical-align: top;\n",
       "    }\n",
       "\n",
       "    .dataframe thead th {\n",
       "        text-align: right;\n",
       "    }\n",
       "</style>\n",
       "<table border=\"1\" class=\"dataframe\">\n",
       "  <thead>\n",
       "    <tr style=\"text-align: right;\">\n",
       "      <th></th>\n",
       "      <th>Day</th>\n",
       "      <th>Day.in.Words</th>\n",
       "      <th>Gift.Item</th>\n",
       "      <th>Verb</th>\n",
       "      <th>Adjective</th>\n",
       "      <th>Location</th>\n",
       "    </tr>\n",
       "  </thead>\n",
       "  <tbody>\n",
       "    <tr>\n",
       "      <th>0</th>\n",
       "      <td>1</td>\n",
       "      <td>first</td>\n",
       "      <td>email</td>\n",
       "      <td>NaN</td>\n",
       "      <td>NaN</td>\n",
       "      <td>from Cal Poly</td>\n",
       "    </tr>\n",
       "    <tr>\n",
       "      <th>1</th>\n",
       "      <td>2</td>\n",
       "      <td>second</td>\n",
       "      <td>point</td>\n",
       "      <td>NaN</td>\n",
       "      <td>meal</td>\n",
       "      <td>NaN</td>\n",
       "    </tr>\n",
       "    <tr>\n",
       "      <th>2</th>\n",
       "      <td>3</td>\n",
       "      <td>third</td>\n",
       "      <td>pen</td>\n",
       "      <td>NaN</td>\n",
       "      <td>lost</td>\n",
       "      <td>NaN</td>\n",
       "    </tr>\n",
       "    <tr>\n",
       "      <th>3</th>\n",
       "      <td>4</td>\n",
       "      <td>fourth</td>\n",
       "      <td>review</td>\n",
       "      <td>NaN</td>\n",
       "      <td>course</td>\n",
       "      <td>NaN</td>\n",
       "    </tr>\n",
       "    <tr>\n",
       "      <th>4</th>\n",
       "      <td>5</td>\n",
       "      <td>fifth</td>\n",
       "      <td>exam</td>\n",
       "      <td>NaN</td>\n",
       "      <td>practice</td>\n",
       "      <td>NaN</td>\n",
       "    </tr>\n",
       "    <tr>\n",
       "      <th>5</th>\n",
       "      <td>6</td>\n",
       "      <td>sixth</td>\n",
       "      <td>grader</td>\n",
       "      <td>grading</td>\n",
       "      <td>NaN</td>\n",
       "      <td>NaN</td>\n",
       "    </tr>\n",
       "    <tr>\n",
       "      <th>6</th>\n",
       "      <td>7</td>\n",
       "      <td>seventh</td>\n",
       "      <td>senior</td>\n",
       "      <td>stressing</td>\n",
       "      <td>NaN</td>\n",
       "      <td>NaN</td>\n",
       "    </tr>\n",
       "    <tr>\n",
       "      <th>7</th>\n",
       "      <td>8</td>\n",
       "      <td>eighth</td>\n",
       "      <td>mom</td>\n",
       "      <td>a-calling</td>\n",
       "      <td>NaN</td>\n",
       "      <td>NaN</td>\n",
       "    </tr>\n",
       "    <tr>\n",
       "      <th>8</th>\n",
       "      <td>9</td>\n",
       "      <td>ninth</td>\n",
       "      <td>party</td>\n",
       "      <td>bumping</td>\n",
       "      <td>NaN</td>\n",
       "      <td>NaN</td>\n",
       "    </tr>\n",
       "    <tr>\n",
       "      <th>9</th>\n",
       "      <td>10</td>\n",
       "      <td>tenth</td>\n",
       "      <td>load</td>\n",
       "      <td>of laundry</td>\n",
       "      <td>NaN</td>\n",
       "      <td>NaN</td>\n",
       "    </tr>\n",
       "    <tr>\n",
       "      <th>10</th>\n",
       "      <td>11</td>\n",
       "      <td>eleventh</td>\n",
       "      <td>friend</td>\n",
       "      <td>goodbye-ing</td>\n",
       "      <td>NaN</td>\n",
       "      <td>NaN</td>\n",
       "    </tr>\n",
       "    <tr>\n",
       "      <th>11</th>\n",
       "      <td>12</td>\n",
       "      <td>twelfth</td>\n",
       "      <td>hour</td>\n",
       "      <td>sleeping</td>\n",
       "      <td>NaN</td>\n",
       "      <td>NaN</td>\n",
       "    </tr>\n",
       "  </tbody>\n",
       "</table>\n",
       "</div>"
      ],
      "text/plain": [
       "    Day Day.in.Words Gift.Item         Verb Adjective       Location\n",
       "0     1        first     email          NaN       NaN  from Cal Poly\n",
       "1     2       second     point          NaN      meal            NaN\n",
       "2     3        third       pen          NaN      lost            NaN\n",
       "3     4       fourth    review          NaN    course            NaN\n",
       "4     5        fifth      exam          NaN  practice            NaN\n",
       "5     6        sixth    grader      grading       NaN            NaN\n",
       "6     7      seventh    senior    stressing       NaN            NaN\n",
       "7     8       eighth       mom    a-calling       NaN            NaN\n",
       "8     9        ninth     party      bumping       NaN            NaN\n",
       "9    10        tenth      load   of laundry       NaN            NaN\n",
       "10   11     eleventh    friend  goodbye-ing       NaN            NaN\n",
       "11   12      twelfth      hour     sleeping       NaN            NaN"
      ]
     },
     "execution_count": 344,
     "metadata": {},
     "output_type": "execute_result"
    }
   ],
   "source": [
    "xmas2"
   ]
  },
  {
   "cell_type": "code",
   "execution_count": 350,
   "id": "e82ac58c",
   "metadata": {},
   "outputs": [
    {
     "data": {
      "text/plain": [
       "0      emails\n",
       "1      points\n",
       "2        pens\n",
       "3     reviews\n",
       "4       exams\n",
       "5     graders\n",
       "6     seniors\n",
       "7        moms\n",
       "8     parties\n",
       "9       loads\n",
       "10    friends\n",
       "11      hours\n",
       "Name: Gift.Item, dtype: object"
      ]
     },
     "execution_count": 350,
     "metadata": {},
     "output_type": "execute_result"
    }
   ],
   "source": [
    "xmas2['Gift.Item'].apply(pluralize_gift)"
   ]
  },
  {
   "cell_type": "code",
   "execution_count": 351,
   "id": "020a3206",
   "metadata": {},
   "outputs": [],
   "source": [
    "xmas2['Full.Phrase'] = xmas2.apply(\n",
    "    lambda row: make_phrase(\n",
    "        num=row['Day'],\n",
    "        num_word=row['Day.in.Words'],\n",
    "        item=row['Gift.Item'],\n",
    "        verb=row['Verb'],\n",
    "        adjective=row['Adjective'],\n",
    "        location=row['Location']\n",
    "    ),\n",
    "    axis = 1\n",
    ")"
   ]
  },
  {
   "cell_type": "code",
   "execution_count": 352,
   "id": "937b9132",
   "metadata": {},
   "outputs": [
    {
     "data": {
      "text/html": [
       "<div>\n",
       "<style scoped>\n",
       "    .dataframe tbody tr th:only-of-type {\n",
       "        vertical-align: middle;\n",
       "    }\n",
       "\n",
       "    .dataframe tbody tr th {\n",
       "        vertical-align: top;\n",
       "    }\n",
       "\n",
       "    .dataframe thead th {\n",
       "        text-align: right;\n",
       "    }\n",
       "</style>\n",
       "<table border=\"1\" class=\"dataframe\">\n",
       "  <thead>\n",
       "    <tr style=\"text-align: right;\">\n",
       "      <th></th>\n",
       "      <th>Day</th>\n",
       "      <th>Day.in.Words</th>\n",
       "      <th>Gift.Item</th>\n",
       "      <th>Verb</th>\n",
       "      <th>Adjective</th>\n",
       "      <th>Location</th>\n",
       "      <th>Full.Phrase</th>\n",
       "    </tr>\n",
       "  </thead>\n",
       "  <tbody>\n",
       "    <tr>\n",
       "      <th>0</th>\n",
       "      <td>1</td>\n",
       "      <td>first</td>\n",
       "      <td>email</td>\n",
       "      <td></td>\n",
       "      <td></td>\n",
       "      <td>from Cal Poly</td>\n",
       "      <td>an   email from Cal Poly</td>\n",
       "    </tr>\n",
       "    <tr>\n",
       "      <th>1</th>\n",
       "      <td>2</td>\n",
       "      <td>second</td>\n",
       "      <td>point</td>\n",
       "      <td></td>\n",
       "      <td>meal</td>\n",
       "      <td></td>\n",
       "      <td>second meal points</td>\n",
       "    </tr>\n",
       "    <tr>\n",
       "      <th>2</th>\n",
       "      <td>3</td>\n",
       "      <td>third</td>\n",
       "      <td>pen</td>\n",
       "      <td></td>\n",
       "      <td>lost</td>\n",
       "      <td></td>\n",
       "      <td>third lost pens</td>\n",
       "    </tr>\n",
       "    <tr>\n",
       "      <th>3</th>\n",
       "      <td>4</td>\n",
       "      <td>fourth</td>\n",
       "      <td>review</td>\n",
       "      <td></td>\n",
       "      <td>course</td>\n",
       "      <td></td>\n",
       "      <td>fourth course reviews</td>\n",
       "    </tr>\n",
       "    <tr>\n",
       "      <th>4</th>\n",
       "      <td>5</td>\n",
       "      <td>fifth</td>\n",
       "      <td>exam</td>\n",
       "      <td></td>\n",
       "      <td>practice</td>\n",
       "      <td></td>\n",
       "      <td>fifth practice exams</td>\n",
       "    </tr>\n",
       "    <tr>\n",
       "      <th>5</th>\n",
       "      <td>6</td>\n",
       "      <td>sixth</td>\n",
       "      <td>grader</td>\n",
       "      <td>grading</td>\n",
       "      <td></td>\n",
       "      <td></td>\n",
       "      <td>sixth   graders grading</td>\n",
       "    </tr>\n",
       "    <tr>\n",
       "      <th>6</th>\n",
       "      <td>7</td>\n",
       "      <td>seventh</td>\n",
       "      <td>senior</td>\n",
       "      <td>stressing</td>\n",
       "      <td></td>\n",
       "      <td></td>\n",
       "      <td>seventh   seniors stressing</td>\n",
       "    </tr>\n",
       "    <tr>\n",
       "      <th>7</th>\n",
       "      <td>8</td>\n",
       "      <td>eighth</td>\n",
       "      <td>mom</td>\n",
       "      <td>a-calling</td>\n",
       "      <td></td>\n",
       "      <td></td>\n",
       "      <td>eighth   moms a-calling</td>\n",
       "    </tr>\n",
       "    <tr>\n",
       "      <th>8</th>\n",
       "      <td>9</td>\n",
       "      <td>ninth</td>\n",
       "      <td>party</td>\n",
       "      <td>bumping</td>\n",
       "      <td></td>\n",
       "      <td></td>\n",
       "      <td>ninth   parties bumping</td>\n",
       "    </tr>\n",
       "    <tr>\n",
       "      <th>9</th>\n",
       "      <td>10</td>\n",
       "      <td>tenth</td>\n",
       "      <td>load</td>\n",
       "      <td>of laundry</td>\n",
       "      <td></td>\n",
       "      <td></td>\n",
       "      <td>tenth   loads of laundry</td>\n",
       "    </tr>\n",
       "    <tr>\n",
       "      <th>10</th>\n",
       "      <td>11</td>\n",
       "      <td>eleventh</td>\n",
       "      <td>friend</td>\n",
       "      <td>goodbye-ing</td>\n",
       "      <td></td>\n",
       "      <td></td>\n",
       "      <td>eleventh   friends goodbye-ing</td>\n",
       "    </tr>\n",
       "    <tr>\n",
       "      <th>11</th>\n",
       "      <td>12</td>\n",
       "      <td>twelfth</td>\n",
       "      <td>hour</td>\n",
       "      <td>sleeping</td>\n",
       "      <td></td>\n",
       "      <td></td>\n",
       "      <td>twelfth   hours sleeping</td>\n",
       "    </tr>\n",
       "  </tbody>\n",
       "</table>\n",
       "</div>"
      ],
      "text/plain": [
       "    Day Day.in.Words Gift.Item         Verb Adjective       Location  \\\n",
       "0     1        first     email                         from Cal Poly   \n",
       "1     2       second     point                   meal                  \n",
       "2     3        third       pen                   lost                  \n",
       "3     4       fourth    review                 course                  \n",
       "4     5        fifth      exam               practice                  \n",
       "5     6        sixth    grader      grading                            \n",
       "6     7      seventh    senior    stressing                            \n",
       "7     8       eighth       mom    a-calling                            \n",
       "8     9        ninth     party      bumping                            \n",
       "9    10        tenth      load   of laundry                            \n",
       "10   11     eleventh    friend  goodbye-ing                            \n",
       "11   12      twelfth      hour     sleeping                            \n",
       "\n",
       "                       Full.Phrase  \n",
       "0         an   email from Cal Poly  \n",
       "1               second meal points  \n",
       "2                  third lost pens  \n",
       "3            fourth course reviews  \n",
       "4             fifth practice exams  \n",
       "5          sixth   graders grading  \n",
       "6      seventh   seniors stressing  \n",
       "7          eighth   moms a-calling  \n",
       "8          ninth   parties bumping  \n",
       "9         tenth   loads of laundry  \n",
       "10  eleventh   friends goodbye-ing  \n",
       "11        twelfth   hours sleeping  "
      ]
     },
     "execution_count": 352,
     "metadata": {},
     "output_type": "execute_result"
    }
   ],
   "source": [
    "xmas2"
   ]
  },
  {
   "cell_type": "code",
   "execution_count": 353,
   "id": "c07a4f5a",
   "metadata": {},
   "outputs": [
    {
     "name": "stdout",
     "output_type": "stream",
     "text": [
      "On the twelfth day of Christmas, my true love sent to me:\n",
      "twelve hours sleeping,\n",
      "eleven friends goodbye-ing,\n",
      "ten loads of laundry,\n",
      "nine parties bumping,\n",
      "eight moms a-calling,\n",
      "seven seniors stressing,\n",
      "six graders grading,\n",
      "five practice exams,\n",
      "four course reviews,\n",
      "three lost pens,\n",
      "two meal points,\n",
      "email from Cal Poly.\n"
     ]
    }
   ],
   "source": [
    "print(sing_day(xmas2, 12, \"Full.Phrase\"))"
   ]
  }
 ],
 "metadata": {
  "kernelspec": {
   "display_name": "Python 3 (ipykernel)",
   "language": "python",
   "name": "python3"
  },
  "language_info": {
   "codemirror_mode": {
    "name": "ipython",
    "version": 3
   },
   "file_extension": ".py",
   "mimetype": "text/x-python",
   "name": "python",
   "nbconvert_exporter": "python",
   "pygments_lexer": "ipython3",
   "version": "3.11.5"
  }
 },
 "nbformat": 4,
 "nbformat_minor": 5
}
